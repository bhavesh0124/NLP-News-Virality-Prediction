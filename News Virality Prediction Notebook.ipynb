{
 "cells": [
  {
   "cell_type": "markdown",
   "metadata": {},
   "source": [
    "## Importing Required Libraries\n"
   ]
  },
  {
   "cell_type": "code",
   "execution_count": 127,
   "metadata": {},
   "outputs": [],
   "source": [
    "import numpy as np\n",
    "import pandas as pd\n",
    "import matplotlib.pyplot as plt\n",
    "import seaborn as sns\n",
    "%matplotlib inline\n",
    "import time"
   ]
  },
  {
   "cell_type": "code",
   "execution_count": 128,
   "metadata": {},
   "outputs": [],
   "source": [
    "from bs4 import BeautifulSoup\n",
    "import requests\n",
    "import re, nltk\n",
    "from nltk.tokenize import WordPunctTokenizer\n",
    "tokenizer = WordPunctTokenizer()\n",
    "from nltk.stem import WordNetLemmatizer\n",
    "from nltk.corpus import stopwords\n",
    "from sklearn.feature_extraction.text import CountVectorizer,TfidfVectorizer,HashingVectorizer"
   ]
  },
  {
   "cell_type": "code",
   "execution_count": 129,
   "metadata": {},
   "outputs": [],
   "source": [
    "from os import path\n",
    "from PIL import Image\n",
    "from wordcloud import WordCloud, STOPWORDS, ImageColorGenerator\n",
    "import pandas.util.testing as tm"
   ]
  },
  {
   "cell_type": "markdown",
   "metadata": {},
   "source": [
    "## Web scraping"
   ]
  },
  {
   "cell_type": "markdown",
   "metadata": {},
   "source": [
    "### Targetting and crwaling India Today Website to crawl and extract Viral and Non-Viral News"
   ]
  },
  {
   "cell_type": "code",
   "execution_count": 130,
   "metadata": {},
   "outputs": [],
   "source": [
    "#Viral news URLs\n",
    "urltrend=['https://www.indiatoday.in/trending-news?page=1','https://www.indiatoday.in/trending-news?page=2','https://www.indiatoday.in/trending-news?page=3','https://www.indiatoday.in/trending-news?page=4','https://www.indiatoday.in/trending-news?page=5','https://www.indiatoday.in/trending-news?page=7','https://www.indiatoday.in/trending-news?page=6','https://www.indiatoday.in/trending-news?page=10','https://www.indiatoday.in/trending-news?page=2']\n",
    "\n",
    "#Non-viral news URLs\n",
    "url=[\"https://www.indiatoday.in/india\",'https://www.indiatoday.in/india?page=12','https://www.indiatoday.in/india?page=11','https://www.indiatoday.in/india?page=10','https://www.indiatoday.in/india?page=9','https://www.indiatoday.in/india?page=8','https://www.indiatoday.in/india?page=6','https://www.indiatoday.in/india?page=5','https://www.indiatoday.in/india?page=4','https://www.indiatoday.in/india?page=12','https://www.indiatoday.in/india?page=7']\n",
    "\n",
    "#Test URL (both trending and normal news for testing)\n",
    "urltest=['https://www.indiatoday.in/trending-news?page=15','https://www.indiatoday.in/india?page=13']\n"
   ]
  },
  {
   "cell_type": "markdown",
   "metadata": {},
   "source": [
    "#### We Pass the URL and then using HTML parser beautiful soup extract required news headings\n",
    "\n",
    "#### Perhaps Headers can be used "
   ]
  },
  {
   "cell_type": "code",
   "execution_count": 131,
   "metadata": {},
   "outputs": [],
   "source": [
    "def get_text(url):\n",
    "    title=[]\n",
    "    description=[]\n",
    "    \n",
    "    for i in url:    \n",
    "        r1 =requests.get(i)\n",
    "\n",
    "        # Soup creation\n",
    "        soup = BeautifulSoup(r1.content, 'html.parser')\n",
    "\n",
    "        # News identification\n",
    "        for foo in soup.find_all('div',attrs={'class':'detail'}):\n",
    "            bar = foo.find('h2', attrs={'class':''})\n",
    "            try :\n",
    "                para = foo.find('p').getText()\n",
    "            except :\n",
    "                pass\n",
    "            try:\n",
    "                title.append(bar[\"title\"])\n",
    "                description.append(para)\n",
    "            except:\n",
    "                pass\n",
    "            \n",
    "           \n",
    "            #time.sleep(1)\n",
    "           \n",
    "    #Creating dataframe for news title and description   \n",
    "    #print(description)\n",
    "    df=[]\n",
    "    df=pd.DataFrame(df)\n",
    "    df[\"Title\"]=title\n",
    "    df[\"Description\"]=description\n",
    "    \n",
    "    return df"
   ]
  },
  {
   "cell_type": "markdown",
   "metadata": {},
   "source": [
    "### Creating 3 Datasets Separate"
   ]
  },
  {
   "cell_type": "code",
   "execution_count": 132,
   "metadata": {
    "scrolled": true
   },
   "outputs": [],
   "source": [
    "normal=get_text(url)\n",
    "trending=get_text(urltrend)\n",
    "test=get_text(urltest)"
   ]
  },
  {
   "cell_type": "code",
   "execution_count": 133,
   "metadata": {},
   "outputs": [
    {
     "data": {
      "text/html": [
       "<div>\n",
       "<style scoped>\n",
       "    .dataframe tbody tr th:only-of-type {\n",
       "        vertical-align: middle;\n",
       "    }\n",
       "\n",
       "    .dataframe tbody tr th {\n",
       "        vertical-align: top;\n",
       "    }\n",
       "\n",
       "    .dataframe thead th {\n",
       "        text-align: right;\n",
       "    }\n",
       "</style>\n",
       "<table border=\"1\" class=\"dataframe\">\n",
       "  <thead>\n",
       "    <tr style=\"text-align: right;\">\n",
       "      <th></th>\n",
       "      <th>Title</th>\n",
       "      <th>Description</th>\n",
       "    </tr>\n",
       "  </thead>\n",
       "  <tbody>\n",
       "    <tr>\n",
       "      <th>0</th>\n",
       "      <td>Coronavirus patients sing and dance at quarant...</td>\n",
       "      <td>A video of a group of novel coronavirus patien...</td>\n",
       "    </tr>\n",
       "    <tr>\n",
       "      <th>1</th>\n",
       "      <td>5-feet-long rat snake rescued from Delhi's R K...</td>\n",
       "      <td>A rat snake was rescued from the R K Khanna St...</td>\n",
       "    </tr>\n",
       "    <tr>\n",
       "      <th>2</th>\n",
       "      <td>75-year-old Warrior Aaji Maa from Pune juggles...</td>\n",
       "      <td>The elderly woman from Pune displays her skill...</td>\n",
       "    </tr>\n",
       "    <tr>\n",
       "      <th>3</th>\n",
       "      <td>Gli the cat can stay even as Istanbul's Hagia ...</td>\n",
       "      <td>With the decision to turn the museum into a mo...</td>\n",
       "    </tr>\n",
       "    <tr>\n",
       "      <th>4</th>\n",
       "      <td>Buffalo chases elephant away. Viral video has ...</td>\n",
       "      <td>A video of an elephant and a buffalo is doing ...</td>\n",
       "    </tr>\n",
       "    <tr>\n",
       "      <th>...</th>\n",
       "      <td>...</td>\n",
       "      <td>...</td>\n",
       "    </tr>\n",
       "    <tr>\n",
       "      <th>103</th>\n",
       "      <td>Reporter interviews donkey to urge locals to w...</td>\n",
       "      <td>A video of a reporter interviewing a donkey in...</td>\n",
       "    </tr>\n",
       "    <tr>\n",
       "      <th>104</th>\n",
       "      <td>US man fakes death to avoid jail. Gets caught ...</td>\n",
       "      <td>A US-based man faked his death to avoid jail. ...</td>\n",
       "    </tr>\n",
       "    <tr>\n",
       "      <th>105</th>\n",
       "      <td>Rat saves her babies from drowning during heav...</td>\n",
       "      <td>A video of a rat saving her babies from drowni...</td>\n",
       "    </tr>\n",
       "    <tr>\n",
       "      <th>106</th>\n",
       "      <td>Kanye West hints at delaying presidential run ...</td>\n",
       "      <td>In his recent tweet, rapper Kanye West has hin...</td>\n",
       "    </tr>\n",
       "    <tr>\n",
       "      <th>107</th>\n",
       "      <td>Elon Musk shares pic with son X Æ A-12 in new ...</td>\n",
       "      <td>Tesla chief Elon Musk shared an adorable pictu...</td>\n",
       "    </tr>\n",
       "  </tbody>\n",
       "</table>\n",
       "<p>108 rows × 2 columns</p>\n",
       "</div>"
      ],
      "text/plain": [
       "                                                 Title  \\\n",
       "0    Coronavirus patients sing and dance at quarant...   \n",
       "1    5-feet-long rat snake rescued from Delhi's R K...   \n",
       "2    75-year-old Warrior Aaji Maa from Pune juggles...   \n",
       "3    Gli the cat can stay even as Istanbul's Hagia ...   \n",
       "4    Buffalo chases elephant away. Viral video has ...   \n",
       "..                                                 ...   \n",
       "103  Reporter interviews donkey to urge locals to w...   \n",
       "104  US man fakes death to avoid jail. Gets caught ...   \n",
       "105  Rat saves her babies from drowning during heav...   \n",
       "106  Kanye West hints at delaying presidential run ...   \n",
       "107  Elon Musk shares pic with son X Æ A-12 in new ...   \n",
       "\n",
       "                                           Description  \n",
       "0    A video of a group of novel coronavirus patien...  \n",
       "1    A rat snake was rescued from the R K Khanna St...  \n",
       "2    The elderly woman from Pune displays her skill...  \n",
       "3    With the decision to turn the museum into a mo...  \n",
       "4    A video of an elephant and a buffalo is doing ...  \n",
       "..                                                 ...  \n",
       "103  A video of a reporter interviewing a donkey in...  \n",
       "104  A US-based man faked his death to avoid jail. ...  \n",
       "105  A video of a rat saving her babies from drowni...  \n",
       "106  In his recent tweet, rapper Kanye West has hin...  \n",
       "107  Tesla chief Elon Musk shared an adorable pictu...  \n",
       "\n",
       "[108 rows x 2 columns]"
      ]
     },
     "execution_count": 133,
     "metadata": {},
     "output_type": "execute_result"
    }
   ],
   "source": [
    "trending"
   ]
  },
  {
   "cell_type": "markdown",
   "metadata": {},
   "source": [
    "## Creating Target column"
   ]
  },
  {
   "cell_type": "code",
   "execution_count": 134,
   "metadata": {},
   "outputs": [],
   "source": [
    "#Creating virality column (0 for non-viral news, 1 for viral news)\n",
    "normal[\"virality\"]=0\n",
    "trending['virality']=1"
   ]
  },
  {
   "cell_type": "code",
   "execution_count": 135,
   "metadata": {},
   "outputs": [
    {
     "data": {
      "text/html": [
       "<div>\n",
       "<style scoped>\n",
       "    .dataframe tbody tr th:only-of-type {\n",
       "        vertical-align: middle;\n",
       "    }\n",
       "\n",
       "    .dataframe tbody tr th {\n",
       "        vertical-align: top;\n",
       "    }\n",
       "\n",
       "    .dataframe thead th {\n",
       "        text-align: right;\n",
       "    }\n",
       "</style>\n",
       "<table border=\"1\" class=\"dataframe\">\n",
       "  <thead>\n",
       "    <tr style=\"text-align: right;\">\n",
       "      <th></th>\n",
       "      <th>Title</th>\n",
       "      <th>Description</th>\n",
       "      <th>virality</th>\n",
       "    </tr>\n",
       "  </thead>\n",
       "  <tbody>\n",
       "    <tr>\n",
       "      <th>0</th>\n",
       "      <td>E-Mindrocks: How to take care of your mind? Me...</td>\n",
       "      <td>Dr Samir Parekh, a passionate professional who...</td>\n",
       "      <td>0</td>\n",
       "    </tr>\n",
       "    <tr>\n",
       "      <th>1</th>\n",
       "      <td>Madhya Pradesh CM Shivraj Singh Chouhan tests ...</td>\n",
       "      <td>Madhya Pradesh Chief Minister Shivraj Sinh Cho...</td>\n",
       "      <td>0</td>\n",
       "    </tr>\n",
       "    <tr>\n",
       "      <th>2</th>\n",
       "      <td>Assam reduces home quarantine period to 7 days...</td>\n",
       "      <td>According to the government order issued by th...</td>\n",
       "      <td>0</td>\n",
       "    </tr>\n",
       "    <tr>\n",
       "      <th>3</th>\n",
       "      <td>UP businessman's 8-year-old grandson rescued a...</td>\n",
       "      <td>All the five accused in the Gonda kidnapping c...</td>\n",
       "      <td>0</td>\n",
       "    </tr>\n",
       "    <tr>\n",
       "      <th>4</th>\n",
       "      <td>E-Mindrocks LIVE Updates: Sonakshi Sinha, Ratn...</td>\n",
       "      <td>All the five accused in the Gonda kidnapping c...</td>\n",
       "      <td>0</td>\n",
       "    </tr>\n",
       "    <tr>\n",
       "      <th>5</th>\n",
       "      <td>Coronavirus: India reports nearly 49,000 cases...</td>\n",
       "      <td>India has reported 48,916 new coronavirus case...</td>\n",
       "      <td>0</td>\n",
       "    </tr>\n",
       "    <tr>\n",
       "      <th>6</th>\n",
       "      <td>Rajasthan crisis: Congress workers to protest ...</td>\n",
       "      <td>The Rajasthan Congress has decided to protest ...</td>\n",
       "      <td>0</td>\n",
       "    </tr>\n",
       "    <tr>\n",
       "      <th>7</th>\n",
       "      <td>Assam floods ground report: NDRF carries out r...</td>\n",
       "      <td>India Today brings you this ground report from...</td>\n",
       "      <td>0</td>\n",
       "    </tr>\n",
       "    <tr>\n",
       "      <th>8</th>\n",
       "      <td>With new strategy, tougher grip on his flock, ...</td>\n",
       "      <td>From displaying jitters over numbers till a f...</td>\n",
       "      <td>0</td>\n",
       "    </tr>\n",
       "    <tr>\n",
       "      <th>9</th>\n",
       "      <td>Rajasthan Cabinet meet: Gehlot firm on his dem...</td>\n",
       "      <td>The meeting was held at the chief minister's r...</td>\n",
       "      <td>0</td>\n",
       "    </tr>\n",
       "  </tbody>\n",
       "</table>\n",
       "</div>"
      ],
      "text/plain": [
       "                                               Title  \\\n",
       "0  E-Mindrocks: How to take care of your mind? Me...   \n",
       "1  Madhya Pradesh CM Shivraj Singh Chouhan tests ...   \n",
       "2  Assam reduces home quarantine period to 7 days...   \n",
       "3  UP businessman's 8-year-old grandson rescued a...   \n",
       "4  E-Mindrocks LIVE Updates: Sonakshi Sinha, Ratn...   \n",
       "5  Coronavirus: India reports nearly 49,000 cases...   \n",
       "6  Rajasthan crisis: Congress workers to protest ...   \n",
       "7  Assam floods ground report: NDRF carries out r...   \n",
       "8  With new strategy, tougher grip on his flock, ...   \n",
       "9  Rajasthan Cabinet meet: Gehlot firm on his dem...   \n",
       "\n",
       "                                         Description  virality  \n",
       "0  Dr Samir Parekh, a passionate professional who...         0  \n",
       "1  Madhya Pradesh Chief Minister Shivraj Sinh Cho...         0  \n",
       "2  According to the government order issued by th...         0  \n",
       "3  All the five accused in the Gonda kidnapping c...         0  \n",
       "4  All the five accused in the Gonda kidnapping c...         0  \n",
       "5  India has reported 48,916 new coronavirus case...         0  \n",
       "6  The Rajasthan Congress has decided to protest ...         0  \n",
       "7  India Today brings you this ground report from...         0  \n",
       "8   From displaying jitters over numbers till a f...         0  \n",
       "9  The meeting was held at the chief minister's r...         0  "
      ]
     },
     "execution_count": 135,
     "metadata": {},
     "output_type": "execute_result"
    }
   ],
   "source": [
    "normal.head(10)"
   ]
  },
  {
   "cell_type": "markdown",
   "metadata": {},
   "source": [
    "### Combining normal and viral news for creating training set"
   ]
  },
  {
   "cell_type": "code",
   "execution_count": 136,
   "metadata": {},
   "outputs": [],
   "source": [
    "train=pd.concat([trending,normal],axis=0)"
   ]
  },
  {
   "cell_type": "code",
   "execution_count": 137,
   "metadata": {},
   "outputs": [],
   "source": [
    "#Dropping duplicate values(in case of any)\n",
    "train.drop_duplicates(subset='Description',keep='first',inplace=True)"
   ]
  },
  {
   "cell_type": "code",
   "execution_count": 138,
   "metadata": {},
   "outputs": [
    {
     "data": {
      "text/plain": [
       "0    115\n",
       "1     96\n",
       "Name: virality, dtype: int64"
      ]
     },
     "execution_count": 138,
     "metadata": {},
     "output_type": "execute_result"
    }
   ],
   "source": [
    "train[\"virality\"].value_counts()"
   ]
  },
  {
   "cell_type": "markdown",
   "metadata": {},
   "source": [
    "### Random Shuffling"
   ]
  },
  {
   "cell_type": "code",
   "execution_count": 139,
   "metadata": {},
   "outputs": [],
   "source": [
    "#Shuffling training and test set\n",
    "train = train.sample(frac=1).reset_index(drop=True)\n",
    "test = test.sample(frac=1).reset_index(drop=True)"
   ]
  },
  {
   "cell_type": "markdown",
   "metadata": {},
   "source": [
    "## Final Dataset Looks like this"
   ]
  },
  {
   "cell_type": "code",
   "execution_count": 140,
   "metadata": {},
   "outputs": [
    {
     "data": {
      "text/html": [
       "<div>\n",
       "<style scoped>\n",
       "    .dataframe tbody tr th:only-of-type {\n",
       "        vertical-align: middle;\n",
       "    }\n",
       "\n",
       "    .dataframe tbody tr th {\n",
       "        vertical-align: top;\n",
       "    }\n",
       "\n",
       "    .dataframe thead th {\n",
       "        text-align: right;\n",
       "    }\n",
       "</style>\n",
       "<table border=\"1\" class=\"dataframe\">\n",
       "  <thead>\n",
       "    <tr style=\"text-align: right;\">\n",
       "      <th></th>\n",
       "      <th>Title</th>\n",
       "      <th>Description</th>\n",
       "      <th>virality</th>\n",
       "    </tr>\n",
       "  </thead>\n",
       "  <tbody>\n",
       "    <tr>\n",
       "      <th>0</th>\n",
       "      <td>Social distancing, police in PPE, sanitisation...</td>\n",
       "      <td>With the coronavirus crisis far from over, the...</td>\n",
       "      <td>0</td>\n",
       "    </tr>\n",
       "    <tr>\n",
       "      <th>1</th>\n",
       "      <td>Coronavirus patients sing and dance at quarant...</td>\n",
       "      <td>A video of a group of novel coronavirus patien...</td>\n",
       "      <td>1</td>\n",
       "    </tr>\n",
       "    <tr>\n",
       "      <th>2</th>\n",
       "      <td>New trade routes and more: India’s bid to woo ...</td>\n",
       "      <td>Apart from opening and identifying more border...</td>\n",
       "      <td>0</td>\n",
       "    </tr>\n",
       "    <tr>\n",
       "      <th>3</th>\n",
       "      <td>Gurugram: Private hospital booked after corona...</td>\n",
       "      <td>A private hospital in Gurugram's Sector 37 has...</td>\n",
       "      <td>0</td>\n",
       "    </tr>\n",
       "    <tr>\n",
       "      <th>4</th>\n",
       "      <td>Viral video shows peacock eating rice from man...</td>\n",
       "      <td>A video of a peacock eating rice from a man's ...</td>\n",
       "      <td>1</td>\n",
       "    </tr>\n",
       "  </tbody>\n",
       "</table>\n",
       "</div>"
      ],
      "text/plain": [
       "                                               Title  \\\n",
       "0  Social distancing, police in PPE, sanitisation...   \n",
       "1  Coronavirus patients sing and dance at quarant...   \n",
       "2  New trade routes and more: India’s bid to woo ...   \n",
       "3  Gurugram: Private hospital booked after corona...   \n",
       "4  Viral video shows peacock eating rice from man...   \n",
       "\n",
       "                                         Description  virality  \n",
       "0  With the coronavirus crisis far from over, the...         0  \n",
       "1  A video of a group of novel coronavirus patien...         1  \n",
       "2  Apart from opening and identifying more border...         0  \n",
       "3  A private hospital in Gurugram's Sector 37 has...         0  \n",
       "4  A video of a peacock eating rice from a man's ...         1  "
      ]
     },
     "execution_count": 140,
     "metadata": {},
     "output_type": "execute_result"
    }
   ],
   "source": [
    "train.head()"
   ]
  },
  {
   "cell_type": "markdown",
   "metadata": {},
   "source": [
    "## Performing Cleaning Operations"
   ]
  },
  {
   "cell_type": "markdown",
   "metadata": {},
   "source": [
    "### Stop words: Most common words like \"The\", \"A\" etc"
   ]
  },
  {
   "cell_type": "code",
   "execution_count": 141,
   "metadata": {},
   "outputs": [
    {
     "name": "stderr",
     "output_type": "stream",
     "text": [
      "[nltk_data] Downloading package wordnet to /home/bhavesh/nltk_data...\n",
      "[nltk_data]   Package wordnet is already up-to-date!\n"
     ]
    }
   ],
   "source": [
    "#Cleaning text data through removing punctuation,stopwords & using lemmatization. \n",
    "\n",
    "stop_words = set(stopwords.words('english'))\n",
    "nltk.download('wordnet')\n",
    "wordnet_lemmatizer = WordNetLemmatizer()\n",
    "def data_cleaning(news):\n",
    "    proc=[]\n",
    "    for line in news:\n",
    "        only_letters = re.sub(\"[^a-zA-Z0-9]\", \" \",line) \n",
    "        tokens = nltk.word_tokenize(only_letters)\n",
    "        lower_case = [l.lower() for l in tokens]\n",
    "        filtered_result = list(filter(lambda l: l not in stop_words, lower_case))\n",
    "        lemmas = ' '.join([wordnet_lemmatizer.lemmatize(t) for t in filtered_result])\n",
    "        proc.append(lemmas)\n",
    "    return proc        \n",
    "\n",
    "train[\"Description\"] = data_cleaning(train[\"Description\"])\n",
    "test[\"Description\"] = data_cleaning(test[\"Description\"])\n",
    "\n"
   ]
  },
  {
   "cell_type": "code",
   "execution_count": 142,
   "metadata": {},
   "outputs": [],
   "source": [
    "y=train[\"virality\"]"
   ]
  },
  {
   "cell_type": "markdown",
   "metadata": {},
   "source": [
    "## Document-Term Matrix"
   ]
  },
  {
   "cell_type": "code",
   "execution_count": 144,
   "metadata": {},
   "outputs": [],
   "source": [
    "a=train.shape[0]"
   ]
  },
  {
   "cell_type": "code",
   "execution_count": 145,
   "metadata": {},
   "outputs": [],
   "source": [
    "#combining train and test to create document term matrix\n",
    "combined=pd.concat([train,test],axis=0)"
   ]
  },
  {
   "cell_type": "code",
   "execution_count": 146,
   "metadata": {},
   "outputs": [],
   "source": [
    "# We are going to create a document-term matrix using CountVectorizer, and exclude common English stop words\n",
    "def dtm(textcol):\n",
    "    \n",
    "    cv = CountVectorizer(stop_words='english')\n",
    "    data_cv = cv.fit_transform(textcol)\n",
    "    data_dtm = pd.DataFrame(data_cv.toarray(), columns=cv.get_feature_names())\n",
    "    data_dtm.index = textcol.index\n",
    "    return data_dtm"
   ]
  },
  {
   "cell_type": "code",
   "execution_count": 147,
   "metadata": {},
   "outputs": [],
   "source": [
    "dtmcombined=dtm(combined[\"Description\"])"
   ]
  },
  {
   "cell_type": "code",
   "execution_count": 149,
   "metadata": {},
   "outputs": [
    {
     "data": {
      "text/html": [
       "<div>\n",
       "<style scoped>\n",
       "    .dataframe tbody tr th:only-of-type {\n",
       "        vertical-align: middle;\n",
       "    }\n",
       "\n",
       "    .dataframe tbody tr th {\n",
       "        vertical-align: top;\n",
       "    }\n",
       "\n",
       "    .dataframe thead th {\n",
       "        text-align: right;\n",
       "    }\n",
       "</style>\n",
       "<table border=\"1\" class=\"dataframe\">\n",
       "  <thead>\n",
       "    <tr style=\"text-align: right;\">\n",
       "      <th></th>\n",
       "      <th>000</th>\n",
       "      <th>10</th>\n",
       "      <th>100</th>\n",
       "      <th>11</th>\n",
       "      <th>110</th>\n",
       "      <th>12</th>\n",
       "      <th>120</th>\n",
       "      <th>13</th>\n",
       "      <th>14</th>\n",
       "      <th>15</th>\n",
       "      <th>...</th>\n",
       "      <th>worth</th>\n",
       "      <th>written</th>\n",
       "      <th>xii</th>\n",
       "      <th>year</th>\n",
       "      <th>yellow</th>\n",
       "      <th>yogi</th>\n",
       "      <th>youtube</th>\n",
       "      <th>zone</th>\n",
       "      <th>zoo</th>\n",
       "      <th>zoological</th>\n",
       "    </tr>\n",
       "  </thead>\n",
       "  <tbody>\n",
       "    <tr>\n",
       "      <th>0</th>\n",
       "      <td>0</td>\n",
       "      <td>0</td>\n",
       "      <td>0</td>\n",
       "      <td>0</td>\n",
       "      <td>0</td>\n",
       "      <td>0</td>\n",
       "      <td>0</td>\n",
       "      <td>0</td>\n",
       "      <td>0</td>\n",
       "      <td>0</td>\n",
       "      <td>...</td>\n",
       "      <td>0</td>\n",
       "      <td>0</td>\n",
       "      <td>0</td>\n",
       "      <td>1</td>\n",
       "      <td>0</td>\n",
       "      <td>0</td>\n",
       "      <td>0</td>\n",
       "      <td>0</td>\n",
       "      <td>0</td>\n",
       "      <td>0</td>\n",
       "    </tr>\n",
       "    <tr>\n",
       "      <th>1</th>\n",
       "      <td>0</td>\n",
       "      <td>0</td>\n",
       "      <td>0</td>\n",
       "      <td>0</td>\n",
       "      <td>0</td>\n",
       "      <td>0</td>\n",
       "      <td>0</td>\n",
       "      <td>0</td>\n",
       "      <td>0</td>\n",
       "      <td>0</td>\n",
       "      <td>...</td>\n",
       "      <td>0</td>\n",
       "      <td>0</td>\n",
       "      <td>0</td>\n",
       "      <td>0</td>\n",
       "      <td>0</td>\n",
       "      <td>0</td>\n",
       "      <td>0</td>\n",
       "      <td>0</td>\n",
       "      <td>0</td>\n",
       "      <td>0</td>\n",
       "    </tr>\n",
       "    <tr>\n",
       "      <th>2</th>\n",
       "      <td>0</td>\n",
       "      <td>0</td>\n",
       "      <td>0</td>\n",
       "      <td>0</td>\n",
       "      <td>0</td>\n",
       "      <td>0</td>\n",
       "      <td>0</td>\n",
       "      <td>0</td>\n",
       "      <td>0</td>\n",
       "      <td>0</td>\n",
       "      <td>...</td>\n",
       "      <td>0</td>\n",
       "      <td>0</td>\n",
       "      <td>0</td>\n",
       "      <td>0</td>\n",
       "      <td>0</td>\n",
       "      <td>0</td>\n",
       "      <td>0</td>\n",
       "      <td>0</td>\n",
       "      <td>0</td>\n",
       "      <td>0</td>\n",
       "    </tr>\n",
       "    <tr>\n",
       "      <th>3</th>\n",
       "      <td>0</td>\n",
       "      <td>0</td>\n",
       "      <td>0</td>\n",
       "      <td>0</td>\n",
       "      <td>0</td>\n",
       "      <td>0</td>\n",
       "      <td>0</td>\n",
       "      <td>0</td>\n",
       "      <td>0</td>\n",
       "      <td>0</td>\n",
       "      <td>...</td>\n",
       "      <td>0</td>\n",
       "      <td>0</td>\n",
       "      <td>0</td>\n",
       "      <td>0</td>\n",
       "      <td>0</td>\n",
       "      <td>0</td>\n",
       "      <td>0</td>\n",
       "      <td>0</td>\n",
       "      <td>0</td>\n",
       "      <td>0</td>\n",
       "    </tr>\n",
       "    <tr>\n",
       "      <th>4</th>\n",
       "      <td>0</td>\n",
       "      <td>0</td>\n",
       "      <td>0</td>\n",
       "      <td>0</td>\n",
       "      <td>0</td>\n",
       "      <td>0</td>\n",
       "      <td>0</td>\n",
       "      <td>0</td>\n",
       "      <td>0</td>\n",
       "      <td>0</td>\n",
       "      <td>...</td>\n",
       "      <td>0</td>\n",
       "      <td>0</td>\n",
       "      <td>0</td>\n",
       "      <td>0</td>\n",
       "      <td>0</td>\n",
       "      <td>0</td>\n",
       "      <td>0</td>\n",
       "      <td>0</td>\n",
       "      <td>0</td>\n",
       "      <td>0</td>\n",
       "    </tr>\n",
       "    <tr>\n",
       "      <th>...</th>\n",
       "      <td>...</td>\n",
       "      <td>...</td>\n",
       "      <td>...</td>\n",
       "      <td>...</td>\n",
       "      <td>...</td>\n",
       "      <td>...</td>\n",
       "      <td>...</td>\n",
       "      <td>...</td>\n",
       "      <td>...</td>\n",
       "      <td>...</td>\n",
       "      <td>...</td>\n",
       "      <td>...</td>\n",
       "      <td>...</td>\n",
       "      <td>...</td>\n",
       "      <td>...</td>\n",
       "      <td>...</td>\n",
       "      <td>...</td>\n",
       "      <td>...</td>\n",
       "      <td>...</td>\n",
       "      <td>...</td>\n",
       "      <td>...</td>\n",
       "    </tr>\n",
       "    <tr>\n",
       "      <th>19</th>\n",
       "      <td>0</td>\n",
       "      <td>0</td>\n",
       "      <td>0</td>\n",
       "      <td>0</td>\n",
       "      <td>0</td>\n",
       "      <td>0</td>\n",
       "      <td>0</td>\n",
       "      <td>0</td>\n",
       "      <td>0</td>\n",
       "      <td>0</td>\n",
       "      <td>...</td>\n",
       "      <td>1</td>\n",
       "      <td>0</td>\n",
       "      <td>0</td>\n",
       "      <td>0</td>\n",
       "      <td>0</td>\n",
       "      <td>0</td>\n",
       "      <td>0</td>\n",
       "      <td>0</td>\n",
       "      <td>0</td>\n",
       "      <td>0</td>\n",
       "    </tr>\n",
       "    <tr>\n",
       "      <th>20</th>\n",
       "      <td>0</td>\n",
       "      <td>0</td>\n",
       "      <td>0</td>\n",
       "      <td>0</td>\n",
       "      <td>0</td>\n",
       "      <td>0</td>\n",
       "      <td>0</td>\n",
       "      <td>0</td>\n",
       "      <td>0</td>\n",
       "      <td>0</td>\n",
       "      <td>...</td>\n",
       "      <td>0</td>\n",
       "      <td>0</td>\n",
       "      <td>0</td>\n",
       "      <td>0</td>\n",
       "      <td>0</td>\n",
       "      <td>0</td>\n",
       "      <td>0</td>\n",
       "      <td>0</td>\n",
       "      <td>0</td>\n",
       "      <td>0</td>\n",
       "    </tr>\n",
       "    <tr>\n",
       "      <th>21</th>\n",
       "      <td>0</td>\n",
       "      <td>0</td>\n",
       "      <td>0</td>\n",
       "      <td>0</td>\n",
       "      <td>0</td>\n",
       "      <td>0</td>\n",
       "      <td>0</td>\n",
       "      <td>0</td>\n",
       "      <td>0</td>\n",
       "      <td>0</td>\n",
       "      <td>...</td>\n",
       "      <td>0</td>\n",
       "      <td>0</td>\n",
       "      <td>0</td>\n",
       "      <td>0</td>\n",
       "      <td>0</td>\n",
       "      <td>0</td>\n",
       "      <td>0</td>\n",
       "      <td>0</td>\n",
       "      <td>0</td>\n",
       "      <td>0</td>\n",
       "    </tr>\n",
       "    <tr>\n",
       "      <th>22</th>\n",
       "      <td>0</td>\n",
       "      <td>0</td>\n",
       "      <td>0</td>\n",
       "      <td>0</td>\n",
       "      <td>0</td>\n",
       "      <td>0</td>\n",
       "      <td>0</td>\n",
       "      <td>0</td>\n",
       "      <td>0</td>\n",
       "      <td>0</td>\n",
       "      <td>...</td>\n",
       "      <td>0</td>\n",
       "      <td>0</td>\n",
       "      <td>0</td>\n",
       "      <td>0</td>\n",
       "      <td>0</td>\n",
       "      <td>0</td>\n",
       "      <td>0</td>\n",
       "      <td>0</td>\n",
       "      <td>0</td>\n",
       "      <td>0</td>\n",
       "    </tr>\n",
       "    <tr>\n",
       "      <th>23</th>\n",
       "      <td>0</td>\n",
       "      <td>0</td>\n",
       "      <td>0</td>\n",
       "      <td>0</td>\n",
       "      <td>0</td>\n",
       "      <td>0</td>\n",
       "      <td>0</td>\n",
       "      <td>0</td>\n",
       "      <td>0</td>\n",
       "      <td>0</td>\n",
       "      <td>...</td>\n",
       "      <td>0</td>\n",
       "      <td>0</td>\n",
       "      <td>0</td>\n",
       "      <td>0</td>\n",
       "      <td>0</td>\n",
       "      <td>0</td>\n",
       "      <td>0</td>\n",
       "      <td>0</td>\n",
       "      <td>0</td>\n",
       "      <td>0</td>\n",
       "    </tr>\n",
       "  </tbody>\n",
       "</table>\n",
       "<p>235 rows × 1706 columns</p>\n",
       "</div>"
      ],
      "text/plain": [
       "    000  10  100  11  110  12  120  13  14  15  ...  worth  written  xii  \\\n",
       "0     0   0    0   0    0   0    0   0   0   0  ...      0        0    0   \n",
       "1     0   0    0   0    0   0    0   0   0   0  ...      0        0    0   \n",
       "2     0   0    0   0    0   0    0   0   0   0  ...      0        0    0   \n",
       "3     0   0    0   0    0   0    0   0   0   0  ...      0        0    0   \n",
       "4     0   0    0   0    0   0    0   0   0   0  ...      0        0    0   \n",
       "..  ...  ..  ...  ..  ...  ..  ...  ..  ..  ..  ...    ...      ...  ...   \n",
       "19    0   0    0   0    0   0    0   0   0   0  ...      1        0    0   \n",
       "20    0   0    0   0    0   0    0   0   0   0  ...      0        0    0   \n",
       "21    0   0    0   0    0   0    0   0   0   0  ...      0        0    0   \n",
       "22    0   0    0   0    0   0    0   0   0   0  ...      0        0    0   \n",
       "23    0   0    0   0    0   0    0   0   0   0  ...      0        0    0   \n",
       "\n",
       "    year  yellow  yogi  youtube  zone  zoo  zoological  \n",
       "0      1       0     0        0     0    0           0  \n",
       "1      0       0     0        0     0    0           0  \n",
       "2      0       0     0        0     0    0           0  \n",
       "3      0       0     0        0     0    0           0  \n",
       "4      0       0     0        0     0    0           0  \n",
       "..   ...     ...   ...      ...   ...  ...         ...  \n",
       "19     0       0     0        0     0    0           0  \n",
       "20     0       0     0        0     0    0           0  \n",
       "21     0       0     0        0     0    0           0  \n",
       "22     0       0     0        0     0    0           0  \n",
       "23     0       0     0        0     0    0           0  \n",
       "\n",
       "[235 rows x 1706 columns]"
      ]
     },
     "execution_count": 149,
     "metadata": {},
     "output_type": "execute_result"
    }
   ],
   "source": [
    "dtmcombined"
   ]
  },
  {
   "cell_type": "code",
   "execution_count": 150,
   "metadata": {},
   "outputs": [],
   "source": [
    "#Splitting combineddtm back into train and test document-term matrices\n",
    "dtmtrain=dtmcombined.iloc[:a,:]\n",
    "dtmtest=dtmcombined.iloc[a:,:]"
   ]
  },
  {
   "cell_type": "markdown",
   "metadata": {},
   "source": [
    "## Data-visualization"
   ]
  },
  {
   "cell_type": "code",
   "execution_count": 154,
   "metadata": {},
   "outputs": [
    {
     "name": "stdout",
     "output_type": "stream",
     "text": [
      "<wordcloud.wordcloud.WordCloud object at 0x7f143435be10>\n"
     ]
    },
    {
     "data": {
      "image/png": "[encoded data removed]",
      "text/plain": [
       "<Figure size 432x288 with 1 Axes>"
      ]
     },
     "metadata": {
      "needs_background": "light"
     },
     "output_type": "display_data"
    }
   ],
   "source": [
    "#Word cloud\n",
    "\n",
    "wordcloud = WordCloud(    background_color='Red',\n",
    "                          stopwords=stop_words,\n",
    "                          max_words=100,\n",
    "                          max_font_size=50, \n",
    "                          random_state=42\n",
    "                          ).generate(str(trending[\"Description\"]))\n",
    "print(wordcloud)\n",
    "fig = plt.figure(1)\n",
    "plt.imshow(wordcloud)\n",
    "plt.axis('off')\n",
    "plt.show()\n",
    "fig.savefig(\"word1.png\", dpi=900)"
   ]
  },
  {
   "cell_type": "code",
   "execution_count": 156,
   "metadata": {},
   "outputs": [
    {
     "data": {
      "text/plain": [
       "[Text(0, 0, 'video'),\n",
       " Text(0, 0, 'viral'),\n",
       " Text(0, 0, 'gone'),\n",
       " Text(0, 0, 'coronavirus'),\n",
       " Text(0, 0, 'india'),\n",
       " Text(0, 0, 'internet'),\n",
       " Text(0, 0, 'social'),\n",
       " Text(0, 0, 'medium'),\n",
       " Text(0, 0, 'case'),\n",
       " Text(0, 0, 'police'),\n",
       " Text(0, 0, 'rajasthan'),\n",
       " Text(0, 0, 'man'),\n",
       " Text(0, 0, 'twitter'),\n",
       " Text(0, 0, 'two'),\n",
       " Text(0, 0, 'state'),\n",
       " Text(0, 0, 'woman'),\n",
       " Text(0, 0, 'covid'),\n",
       " Text(0, 0, 'minister'),\n",
       " Text(0, 0, 'said'),\n",
       " Text(0, 0, 'year')]"
      ]
     },
     "execution_count": 156,
     "metadata": {},
     "output_type": "execute_result"
    },
    {
     "data": {
      "image/png": "[encoded data removed]",
      "text/plain": [
       "<Figure size 936x576 with 1 Axes>"
      ]
     },
     "metadata": {},
     "output_type": "display_data"
    }
   ],
   "source": [
    "#Most frequently occuring words\n",
    "def get_top_n_words(corpus, n=None):\n",
    "    vec = CountVectorizer().fit(corpus)\n",
    "    bag_of_words = vec.transform(corpus)\n",
    "    sum_words = bag_of_words.sum(axis=0) \n",
    "    words_freq = [(word, sum_words[0, idx]) for word, idx in      \n",
    "                   vec.vocabulary_.items()]\n",
    "    words_freq =sorted(words_freq, key = lambda x: x[1], \n",
    "                       reverse=True)\n",
    "    return words_freq[:n]\n",
    "\n",
    "#Convert most freq words to dataframe for plotting bar plot\n",
    "top_words = get_top_n_words(train['Description'], n=20)\n",
    "top_df = pd.DataFrame(top_words)\n",
    "top_df.columns=[\"Word\", \"Freq\"]\n",
    "\n",
    "#Barplot of most freq words\n",
    "sns.set(rc={'figure.figsize':(13,8)})\n",
    "g = sns.barplot(x=\"Word\", y=\"Freq\", data=top_df,color='Blue')\n",
    "g.set_xticklabels(g.get_xticklabels(), rotation=30)"
   ]
  },
  {
   "cell_type": "code",
   "execution_count": 157,
   "metadata": {},
   "outputs": [
    {
     "data": {
      "text/plain": [
       "[Text(0, 0, 'gone viral'),\n",
       " Text(0, 0, 'social medium'),\n",
       " Text(0, 0, 'viral internet'),\n",
       " Text(0, 0, 'novel coronavirus'),\n",
       " Text(0, 0, 'viral social'),\n",
       " Text(0, 0, 'ashok gehlot'),\n",
       " Text(0, 0, 'video gone'),\n",
       " Text(0, 0, 'face mask'),\n",
       " Text(0, 0, 'year old'),\n",
       " Text(0, 0, 'chief minister'),\n",
       " Text(0, 0, 'governor kalraj'),\n",
       " Text(0, 0, 'kalraj mishra'),\n",
       " Text(0, 0, 'covid 19'),\n",
       " Text(0, 0, 'india today'),\n",
       " Text(0, 0, 'viral twitter'),\n",
       " Text(0, 0, 'uttar pradesh'),\n",
       " Text(0, 0, 'coronavirus pandemic'),\n",
       " Text(0, 0, 'congress mlas'),\n",
       " Text(0, 0, 'sachin pilot'),\n",
       " Text(0, 0, 'coronavirus patient')]"
      ]
     },
     "execution_count": 157,
     "metadata": {},
     "output_type": "execute_result"
    },
    {
     "data": {
      "image/png": "[encoded data removed]",
      "text/plain": [
       "<Figure size 936x576 with 1 Axes>"
      ]
     },
     "metadata": {},
     "output_type": "display_data"
    }
   ],
   "source": [
    "#Most frequently occuring Bi-grams\n",
    "def get_top_n2_words(corpus, n=None):\n",
    "    vec1 = CountVectorizer(ngram_range=(2,2),  \n",
    "            max_features=2000).fit(corpus)\n",
    "    bag_of_words = vec1.transform(corpus)\n",
    "    sum_words = bag_of_words.sum(axis=0) \n",
    "    words_freq = [(word, sum_words[0, idx]) for word, idx in     \n",
    "                  vec1.vocabulary_.items()]\n",
    "    words_freq =sorted(words_freq, key = lambda x: x[1], \n",
    "                reverse=True)\n",
    "    return words_freq[:n]\n",
    "\n",
    "top2_words = get_top_n2_words(train[\"Description\"] ,n=20)\n",
    "top2_df = pd.DataFrame(top2_words)\n",
    "top2_df.columns=[\"Bi-gram\", \"Freq\"]\n",
    "\n",
    "#Barplot of most freq Bi-grams\n",
    "sns.set(rc={'figure.figsize':(13,8)})\n",
    "h=sns.barplot(x=\"Bi-gram\", y=\"Freq\", data=top2_df,color=\"red\")\n",
    "h.set_xticklabels(h.get_xticklabels(), rotation=45)"
   ]
  },
  {
   "cell_type": "markdown",
   "metadata": {},
   "source": [
    "## Splitting train and test"
   ]
  },
  {
   "cell_type": "code",
   "execution_count": 158,
   "metadata": {},
   "outputs": [],
   "source": [
    "from sklearn.model_selection import train_test_split\n",
    "X_train,X_test,y_train,y_test = train_test_split(dtmtrain,y, test_size=0.2,random_state=0)"
   ]
  },
  {
   "cell_type": "code",
   "execution_count": 159,
   "metadata": {},
   "outputs": [
    {
     "data": {
      "text/plain": [
       "<matplotlib.axes._subplots.AxesSubplot at 0x7f143415ce48>"
      ]
     },
     "execution_count": 159,
     "metadata": {},
     "output_type": "execute_result"
    },
    {
     "data": {
      "image/png": "[encoded data removed]",
      "text/plain": [
       "<Figure size 936x576 with 1 Axes>"
      ]
     },
     "metadata": {},
     "output_type": "display_data"
    }
   ],
   "source": [
    "#Classifier comparison\n",
    "from sklearn.linear_model import LogisticRegression\n",
    "from sklearn.neighbors import KNeighborsClassifier\n",
    "from sklearn.tree import DecisionTreeClassifier\n",
    "from sklearn.ensemble import RandomForestClassifier\n",
    "from xgboost import XGBClassifier\n",
    "from sklearn.svm import SVC\n",
    "from sklearn.naive_bayes import GaussianNB\n",
    "from sklearn.metrics import accuracy_score, log_loss\n",
    "import seaborn as sns\n",
    "from sklearn.discriminant_analysis import LinearDiscriminantAnalysis, QuadraticDiscriminantAnalysis\n",
    "\n",
    "classifiers = [\n",
    "    KNeighborsClassifier(3),\n",
    "    SVC(probability=True),\n",
    "    DecisionTreeClassifier(),\n",
    "    RandomForestClassifier(),\n",
    "    GaussianNB(),\n",
    "    LogisticRegression(),XGBClassifier()]\n",
    "\n",
    "\n",
    "log_cols = [\"Classifier\", \"Accuracy\"]\n",
    "log  = pd.DataFrame(columns=log_cols)\n",
    "\n",
    "\n",
    "acc_dict = {}\n",
    "\n",
    "     \n",
    "for clf in classifiers:\n",
    "    name = clf.__class__.__name__\n",
    "    clf.fit(X_train, y_train)\n",
    "    train_predictions = clf.predict(X_test)\n",
    "    acc = accuracy_score(y_test, train_predictions)\n",
    "    if name in acc_dict:\n",
    "        acc_dict[name] += acc\n",
    "    else:\n",
    "        acc_dict[name] = acc\n",
    "for clf in acc_dict:\n",
    "    acc_dict[clf] = acc_dict[clf] / 10.0\n",
    "    log_entry = pd.DataFrame([[clf, acc_dict[clf]]], columns=log_cols)\n",
    "    log = log.append(log_entry)\n",
    "\n",
    "plt.xlabel('Accuracy')\n",
    "plt.title('Classifier Accuracy')\n",
    "\n",
    "sns.set_color_codes(\"muted\")\n",
    "sns.barplot(x='Accuracy', y='Classifier', data=log, color=\"b\")"
   ]
  },
  {
   "cell_type": "code",
   "execution_count": 112,
   "metadata": {},
   "outputs": [],
   "source": [
    "# from xgboost import XGBClassifier\n",
    "# classifier=XGBClassifier()\n",
    "# classifier.fit(X_train,y_train)"
   ]
  },
  {
   "cell_type": "code",
   "execution_count": 160,
   "metadata": {},
   "outputs": [
    {
     "data": {
      "text/plain": [
       "LogisticRegression()"
      ]
     },
     "execution_count": 160,
     "metadata": {},
     "output_type": "execute_result"
    }
   ],
   "source": [
    "from sklearn.linear_model import LogisticRegression\n",
    "classifier=LogisticRegression()\n",
    "classifier.fit(X_train,y_train)"
   ]
  },
  {
   "cell_type": "code",
   "execution_count": 161,
   "metadata": {},
   "outputs": [],
   "source": [
    "y_pred=classifier.predict(X_test)"
   ]
  },
  {
   "cell_type": "code",
   "execution_count": 162,
   "metadata": {},
   "outputs": [
    {
     "data": {
      "text/plain": [
       "array([[23,  1],\n",
       "       [ 2, 17]])"
      ]
     },
     "execution_count": 162,
     "metadata": {},
     "output_type": "execute_result"
    }
   ],
   "source": [
    "#Confusin matrix\n",
    "from sklearn.metrics import confusion_matrix\n",
    "cm=confusion_matrix(y_test, y_pred)\n",
    "cm"
   ]
  },
  {
   "cell_type": "code",
   "execution_count": 163,
   "metadata": {},
   "outputs": [
    {
     "data": {
      "text/plain": [
       "0.9302325581395349"
      ]
     },
     "execution_count": 163,
     "metadata": {},
     "output_type": "execute_result"
    }
   ],
   "source": [
    "from sklearn.metrics import accuracy_score\n",
    "accuracy_score(y_test, y_pred)"
   ]
  },
  {
   "cell_type": "markdown",
   "metadata": {},
   "source": [
    "## Predicting test news cases"
   ]
  },
  {
   "cell_type": "code",
   "execution_count": 164,
   "metadata": {},
   "outputs": [],
   "source": [
    "y_p=classifier.predict(dtmtest)"
   ]
  },
  {
   "cell_type": "code",
   "execution_count": 165,
   "metadata": {},
   "outputs": [],
   "source": [
    "test[\"virality\"]=y_p"
   ]
  },
  {
   "cell_type": "code",
   "execution_count": 166,
   "metadata": {},
   "outputs": [],
   "source": [
    "test.drop(\"Description\",axis=1,inplace=True)"
   ]
  },
  {
   "cell_type": "code",
   "execution_count": 168,
   "metadata": {},
   "outputs": [
    {
     "data": {
      "text/html": [
       "<div>\n",
       "<style scoped>\n",
       "    .dataframe tbody tr th:only-of-type {\n",
       "        vertical-align: middle;\n",
       "    }\n",
       "\n",
       "    .dataframe tbody tr th {\n",
       "        vertical-align: top;\n",
       "    }\n",
       "\n",
       "    .dataframe thead th {\n",
       "        text-align: right;\n",
       "    }\n",
       "</style>\n",
       "<table border=\"1\" class=\"dataframe\">\n",
       "  <thead>\n",
       "    <tr style=\"text-align: right;\">\n",
       "      <th></th>\n",
       "      <th>Title</th>\n",
       "      <th>virality</th>\n",
       "    </tr>\n",
       "  </thead>\n",
       "  <tbody>\n",
       "    <tr>\n",
       "      <th>0</th>\n",
       "      <td>Lund University, one of the top 100 in the wor...</td>\n",
       "      <td>0</td>\n",
       "    </tr>\n",
       "    <tr>\n",
       "      <th>1</th>\n",
       "      <td>Shiv Sena criticises MP Udayanraje Bhonsle ove...</td>\n",
       "      <td>0</td>\n",
       "    </tr>\n",
       "    <tr>\n",
       "      <th>2</th>\n",
       "      <td>The Eternal Couple: Stunning pics of black pan...</td>\n",
       "      <td>1</td>\n",
       "    </tr>\n",
       "    <tr>\n",
       "      <th>3</th>\n",
       "      <td>Karnataka ventilator scam real or fake?</td>\n",
       "      <td>0</td>\n",
       "    </tr>\n",
       "    <tr>\n",
       "      <th>4</th>\n",
       "      <td>AIMIM MP questions PM Modi's Aug 5 Ayodhya vis...</td>\n",
       "      <td>0</td>\n",
       "    </tr>\n",
       "    <tr>\n",
       "      <th>5</th>\n",
       "      <td>Covid to China: Has 're-invented' Rahul Gandhi...</td>\n",
       "      <td>0</td>\n",
       "    </tr>\n",
       "    <tr>\n",
       "      <th>6</th>\n",
       "      <td>Uttar Pradesh: 120 inmates at Jhansi prison te...</td>\n",
       "      <td>0</td>\n",
       "    </tr>\n",
       "    <tr>\n",
       "      <th>7</th>\n",
       "      <td>Coronavirus: Jharkhand announces up to 2-year ...</td>\n",
       "      <td>0</td>\n",
       "    </tr>\n",
       "    <tr>\n",
       "      <th>8</th>\n",
       "      <td>Waiters wearing PPE kits, socially-distanced d...</td>\n",
       "      <td>1</td>\n",
       "    </tr>\n",
       "    <tr>\n",
       "      <th>9</th>\n",
       "      <td>Mannequin in saree offers sanitiser to custome...</td>\n",
       "      <td>1</td>\n",
       "    </tr>\n",
       "  </tbody>\n",
       "</table>\n",
       "</div>"
      ],
      "text/plain": [
       "                                               Title  virality\n",
       "0  Lund University, one of the top 100 in the wor...         0\n",
       "1  Shiv Sena criticises MP Udayanraje Bhonsle ove...         0\n",
       "2  The Eternal Couple: Stunning pics of black pan...         1\n",
       "3            Karnataka ventilator scam real or fake?         0\n",
       "4  AIMIM MP questions PM Modi's Aug 5 Ayodhya vis...         0\n",
       "5  Covid to China: Has 're-invented' Rahul Gandhi...         0\n",
       "6  Uttar Pradesh: 120 inmates at Jhansi prison te...         0\n",
       "7  Coronavirus: Jharkhand announces up to 2-year ...         0\n",
       "8  Waiters wearing PPE kits, socially-distanced d...         1\n",
       "9  Mannequin in saree offers sanitiser to custome...         1"
      ]
     },
     "execution_count": 168,
     "metadata": {},
     "output_type": "execute_result"
    }
   ],
   "source": [
    "test.head(10)"
   ]
  },
  {
   "cell_type": "code",
   "execution_count": null,
   "metadata": {},
   "outputs": [],
   "source": []
  }
 ],
 "metadata": {
  "kernelspec": {
   "display_name": "Python 3",
   "language": "python",
   "name": "python3"
  },
  "language_info": {
   "codemirror_mode": {
    "name": "ipython",
    "version": 3
   },
   "file_extension": ".py",
   "mimetype": "text/x-python",
   "name": "python",
   "nbconvert_exporter": "python",
   "pygments_lexer": "ipython3",
   "version": "3.6.9"
  }
 },
 "nbformat": 4,
 "nbformat_minor": 4
}
